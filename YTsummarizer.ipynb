{
 "cells": [
  {
   "cell_type": "markdown",
   "id": "398d6874-61dd-4041-ae69-e8aa0bc18da3",
   "metadata": {},
   "source": [
    "Import the libraries"
   ]
  },
  {
   "cell_type": "code",
   "execution_count": 305,
   "id": "6882ba2e-18dd-481b-9936-624ee484a138",
   "metadata": {},
   "outputs": [],
   "source": [
    "import spacy\n",
    "from spacy.lang.en.stop_words import STOP_WORDS\n",
    "from string import punctuation\n",
    "from heapq import nlargest\n",
    "from flask import Flask"
   ]
  },
  {
   "cell_type": "markdown",
   "id": "39120368-0a75-4eff-b16e-097b8fca155c",
   "metadata": {},
   "source": [
    "Get youtube transcript from youtube API"
   ]
  },
  {
   "cell_type": "code",
   "execution_count": 233,
   "id": "c9856811-737d-46e0-88d4-0c377816adde",
   "metadata": {},
   "outputs": [],
   "source": [
    "from youtube_transcript_api import YouTubeTranscriptApi\n",
    "youtube_video=\"https://www.youtube.com/watch?v=qlDFXUmQn5A\"\n",
    "video_id=youtube_video.split(\"=\")[1]\n",
    "YouTubeTranscriptApi.get_transcript(video_id)\n",
    "transcript=YouTubeTranscriptApi.get_transcript(video_id)"
   ]
  },
  {
   "cell_type": "markdown",
   "id": "c3f07bd2-0e52-485b-abfe-e54ed333ffbe",
   "metadata": {},
   "source": [
    "Get text from transcript"
   ]
  },
  {
   "cell_type": "code",
   "execution_count": 235,
   "id": "1036dfaf-37b9-440d-b1f8-3ebca78c7dd8",
   "metadata": {},
   "outputs": [],
   "source": [
    "text=\"\"\n",
    "for i in transcript:\n",
    "    text+=i['text']"
   ]
  },
  {
   "cell_type": "markdown",
   "id": "cc89e4db-1256-45b9-9563-2881a76b9510",
   "metadata": {},
   "source": [
    "Correcting mistakes"
   ]
  },
  {
   "cell_type": "code",
   "execution_count": 237,
   "id": "a7dc73cf-583c-41d3-841a-60bfbd65100f",
   "metadata": {},
   "outputs": [],
   "source": [
    "import wordninja\n",
    "text=\" \".join(wordninja.split(text))"
   ]
  },
  {
   "cell_type": "markdown",
   "id": "a8f6e84c-d87e-46ec-85a4-cc915a7cb16e",
   "metadata": {},
   "source": [
    "Tokenizing words"
   ]
  },
  {
   "cell_type": "code",
   "execution_count": 239,
   "id": "978e7d26-883a-4eae-b54b-39599820460e",
   "metadata": {},
   "outputs": [],
   "source": [
    "stopwords=list(STOP_WORDS)\n",
    "nlp = spacy.load(\"en_core_web_sm\")\n",
    "doc=nlp(text)\n",
    "tokens=[token.text for token in doc]"
   ]
  },
  {
   "cell_type": "markdown",
   "id": "a6cc646d-dd7e-4f77-a838-0b961eeafb14",
   "metadata": {},
   "source": [
    "Removing stopwords and calculating word frequencies"
   ]
  },
  {
   "cell_type": "code",
   "execution_count": 241,
   "id": "b309c6ad-000a-47ca-b173-62b7b1e610ca",
   "metadata": {},
   "outputs": [],
   "source": [
    "word_frequencies={}\n",
    "for word in doc:\n",
    "    if word.text.lower() not in stopwords:\n",
    "        if word.text.lower() not in punctuation:\n",
    "            if word.text not in word_frequencies.keys():\n",
    "                word_frequencies[word.text]=1\n",
    "            else:\n",
    "                word_frequencies[word.text]+=1"
   ]
  },
  {
   "cell_type": "markdown",
   "id": "67ffd74d-cd99-4b7a-beea-88d4f91ae748",
   "metadata": {},
   "source": [
    "Get maximum frequency of words"
   ]
  },
  {
   "cell_type": "code",
   "execution_count": 243,
   "id": "3b8ca205-8451-403c-89fb-4d5051ebcd3a",
   "metadata": {},
   "outputs": [],
   "source": [
    "max_frequencies=max(word_frequencies.values())"
   ]
  },
  {
   "cell_type": "markdown",
   "id": "26c45987-cd02-4145-85f6-84884b7e6f06",
   "metadata": {},
   "source": [
    "Normalizing frequencies"
   ]
  },
  {
   "cell_type": "code",
   "execution_count": 245,
   "id": "03efb071-f9e2-4b1f-8d88-ba77bb987c4f",
   "metadata": {},
   "outputs": [],
   "source": [
    "for word in word_frequencies.keys():\n",
    "    word_frequencies[word]=word_frequencies[word]/max_frequencies"
   ]
  },
  {
   "cell_type": "markdown",
   "id": "d8307490-2aaf-493b-aa61-eaa12b34cc8b",
   "metadata": {},
   "source": [
    "Tokenizing sentences"
   ]
  },
  {
   "cell_type": "code",
   "execution_count": 247,
   "id": "4073c5b7-272a-464d-8d94-2f5fd5e4af19",
   "metadata": {},
   "outputs": [],
   "source": [
    "sentence_tokens=[sent for sent in doc.sents]"
   ]
  },
  {
   "cell_type": "markdown",
   "id": "685d9239-f953-4f42-9899-b5b04521075a",
   "metadata": {},
   "source": [
    "Calculating sentence scores for each sentence"
   ]
  },
  {
   "cell_type": "code",
   "execution_count": 249,
   "id": "feacab97-668d-4705-b3ac-68e312727b60",
   "metadata": {},
   "outputs": [],
   "source": [
    "sentence_scores={}\n",
    "for sent in sentence_tokens:\n",
    "    for word in sent:\n",
    "        if word.text.lower() in word_frequencies.keys():\n",
    "            if sent not in sentence_scores.keys():\n",
    "                sentence_scores[sent]=word_frequencies[word.text.lower()]\n",
    "            else:\n",
    "                sentence_scores[sent]+=word_frequencies[word.text.lower()]"
   ]
  },
  {
   "cell_type": "markdown",
   "id": "542e9983-327f-49db-847b-30018749c3fa",
   "metadata": {},
   "source": [
    "Assuming summary to be 25% of total text"
   ]
  },
  {
   "cell_type": "code",
   "execution_count": 251,
   "id": "397a3284-eb20-4a00-ace0-c9a4f0a45f7d",
   "metadata": {},
   "outputs": [],
   "source": [
    "length=len(sentence_tokens)*0.25"
   ]
  },
  {
   "cell_type": "markdown",
   "id": "958c0814-46f5-486c-bd9e-6ccf55fe93dd",
   "metadata": {},
   "source": [
    "Generating summary"
   ]
  },
  {
   "cell_type": "code",
   "execution_count": 253,
   "id": "63b8d46c-ed03-4737-a303-764579e01e45",
   "metadata": {},
   "outputs": [],
   "source": [
    "summary=nlargest(int(length), sentence_scores, key=sentence_scores.get)"
   ]
  },
  {
   "cell_type": "markdown",
   "id": "53a744bb-86a5-44d5-a4b4-86f2543f1038",
   "metadata": {},
   "source": [
    "Printing final summary"
   ]
  },
  {
   "cell_type": "code",
   "execution_count": 309,
   "id": "f7938fd5-49af-43cc-97b7-1cc88472d49e",
   "metadata": {},
   "outputs": [
    {
     "name": "stdout",
     "output_type": "stream",
     "text": [
      "is your Insta gram profile feeling a bits tale it's time for a refresh your feed might be due for an update and your bio could use a spark of excitement but don't worry I've got you covered in the next few minutes I'm going to guide you through a complete Insta gram makeover by the end of this video you'll have a profile that turns heads and keeps followers coming back for more let's get started 93 of Insta gram users judge a person's entire life based on their profile it's a staggering reality your Insta gram is essentially your digital first impression and people form opinions about you from just a few photos and short bio most guys get this wrong they focus on follower counts or flashy content thinking it's the key to an attractive profile but that's not what people are really looking for when someone checks out your profile they're assessing your perceived value they want to see an interesting life confidence and what you have to offer many men unknowingly sabotage their profiles with common mistakes inconsistent posting low quality photos and bios that read like boring RS are just a few examples instead of standing out they end up blending in the psychology behind profile assessment is straightforward people look for social proof lifestyle indicators and authenticity they want to see that you have friends engage in interesting activities and present a genuine version of yourself by understanding these elements you can create a profile that truly represents who you are and attracts the right kind of attention the followers to following ratio can significantly impact your profile's attractiveness surprisingly having too many followers compared to the number of accounts you follow can make your profile seem in authentic or like you purchased followers that's not the impression we want to give for personal accounts aim for a ratio close to one ratio one this balance suggests authenticity and genuine engagement to optimize your ratio start by reviewing your following list un follow accounts that don't add value to your feed and simultaneously focus on creating high quality content that will naturally attract followers engage with other accounts in your Niche by liking and commenting on their posts this interaction can help balance your ratio and potentially increase your followers this section is more for the guys who want to pursue Insta gram as a career and make content first up is leveraging user generated content encourage your followers to share photos related to your brand or lifestyle then feature the best ones on your feed this not only provides fresh content but also builds Community engagement next consider implementing themed posts this could be a weekly series a month long challenge or even seasonal content for example if you're into fitness you might have motivation Monday posts or a 30 day transformation Series this gives your followers something to look forward to to and add structure to your content strategy now let's dive deeper into aesthetic coherence it's not just about using the same filter on every photo it's about creating a visual theme that reflects your personality and interests when someone lands on your profile they should immediately get a sense of who you are and what you're about\n"
     ]
    }
   ],
   "source": [
    "print(\" \".join([word.text for word in summary ]))"
   ]
  },
  {
   "cell_type": "markdown",
   "id": "ca40ad12-4a70-407f-aa00-ff010df1ebb1",
   "metadata": {},
   "source": [
    "Saving the summary"
   ]
  },
  {
   "cell_type": "code",
   "execution_count": 311,
   "id": "655720ee-b8ae-492e-863b-e071d45caaaf",
   "metadata": {},
   "outputs": [
    {
     "name": "stdout",
     "output_type": "stream",
     "text": [
      " * Serving Flask app '__main__'\n",
      " * Debug mode: on\n"
     ]
    },
    {
     "name": "stderr",
     "output_type": "stream",
     "text": [
      "WARNING: This is a development server. Do not use it in a production deployment. Use a production WSGI server instead.\n",
      " * Running on http://127.0.0.1:5000\n",
      "Press CTRL+C to quit\n",
      " * Restarting with watchdog (windowsapi)\n"
     ]
    },
    {
     "ename": "SystemExit",
     "evalue": "1",
     "output_type": "error",
     "traceback": [
      "An exception has occurred, use %tb to see the full traceback.\n",
      "\u001b[1;31mSystemExit\u001b[0m\u001b[1;31m:\u001b[0m 1\n"
     ]
    },
    {
     "name": "stderr",
     "output_type": "stream",
     "text": [
      "C:\\Users\\Soham Chouhan\\anaconda3\\Lib\\site-packages\\IPython\\core\\interactiveshell.py:3585: UserWarning: To exit: use 'exit', 'quit', or Ctrl-D.\n",
      "  warn(\"To exit: use 'exit', 'quit', or Ctrl-D.\", stacklevel=1)\n"
     ]
    }
   ],
   "source": [
    "app=Flask(__name__)\n",
    "@app.route(\"/\")\n",
    "def summary(text):\n",
    "    return \" \".join([word.text for word in summary ])\n",
    "app.run(debug=True)"
   ]
  },
  {
   "cell_type": "code",
   "execution_count": null,
   "id": "f2088b89-70e8-4f1e-978f-665935371a5a",
   "metadata": {},
   "outputs": [],
   "source": []
  }
 ],
 "metadata": {
  "kernelspec": {
   "display_name": "Python 3 (ipykernel)",
   "language": "python",
   "name": "python3"
  },
  "language_info": {
   "codemirror_mode": {
    "name": "ipython",
    "version": 3
   },
   "file_extension": ".py",
   "mimetype": "text/x-python",
   "name": "python",
   "nbconvert_exporter": "python",
   "pygments_lexer": "ipython3",
   "version": "3.12.7"
  }
 },
 "nbformat": 4,
 "nbformat_minor": 5
}
